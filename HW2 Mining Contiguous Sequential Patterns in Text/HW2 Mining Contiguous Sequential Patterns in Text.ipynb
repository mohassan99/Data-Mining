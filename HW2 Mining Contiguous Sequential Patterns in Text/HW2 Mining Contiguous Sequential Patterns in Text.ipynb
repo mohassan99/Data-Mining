{
 "cells": [
  {
   "cell_type": "markdown",
   "id": "10f1edee",
   "metadata": {},
   "source": [
    "# HW2 Mining Contiguous Sequential Patterns in Text  \n",
    "  \n",
    "## Description  \n",
    "  \n",
    "Implement a contiguous sequential pattern mining algorithm and apply it to text data to mine potential phrase candidates.  \n",
    "\n",
    "### Input  \n",
    "The provided input file (\"reviews_sample.txt\") consists of 10,000 online reviews from Yelp users.  The reviews have been stemmed to remove the postfix of each word so words with similar semantics can have the same form and most of the punctuation has been removed.  So, each line is a list of strings separated by spaces.    \n",
    "  \n",
    "An example line is provided below:  "
   ]
  },
  {
   "cell_type": "markdown",
   "id": "0c6bb45a",
   "metadata": {},
   "source": [
    "`cold cheap beer good bar food good service looking great pittsburgh style fish sandwich place breading light fish plentiful good side home cut fry good grilled chicken salad steak soup day homemade lot special great place lunch bar snack beer`  "
   ]
  },
  {
   "cell_type": "markdown",
   "id": "ef6e67e8",
   "metadata": {},
   "source": [
    "### Output  \n",
    "  \n",
    "You need to implement an algorithm to mine contiguous sequential patterns that are frequent in the input data.  A contiguous sequential pattern is a sequence of items that frequently appears as a consecutive subsequence in a database of many sequences.  For example, if the database is   "
   ]
  },
  {
   "cell_type": "markdown",
   "id": "6a0826fd",
   "metadata": {
    "collapsed": true
   },
   "source": [
    "`A,B,A,C\n",
    "A,C,A,B,A,B\n",
    "B,A,A,C,D`\n"
   ]
  },
  {
   "cell_type": "markdown",
   "id": "a608e5ae",
   "metadata": {},
   "source": [
    "and the minimum support is 2, then patterns like \"A,B,A\" or \"A,C\" are both frequent contiguous sequential patterns, while the pattern \"A,A\" is not a frequent contiguous sequential pattern because in the first two sequences the two A's are not consecutive to each other.  Notice that it is still a frequent sequential pattern though.  \n",
    "  \n",
    "Also, notice that multiple appearances of a subsequence in a single sequence record only counts once.  For example, the pattern \"A,B\" appears 1 time in the first sequence and 2 times in the second, but its support should be calculated as 2, as there are only 2 records containing subsequence \"A,B\".  \n",
    "  \n",
    "When implementing the algorithm, you could use any programming language you like. We only need your resulting pattern file, not your source code file.  \n",
    "\n",
    "Please set the relative minimum support to 0.01 and run it on the given text file.  In other words, you need to extract all the frequent contiguous sequential patterns that have an absolute support no smaller than 100.  \n",
    "  \n",
    "Please write all the frequent contiguous sequential patterns along with their absolute supports into a text file named \"patterns.txt\".  Every line corresponds to exactly one pattern you found and should be in the following format:  \n",
    "  \n",
    "support:item_1;item_2;item_3  \n",
    "  \n",
    "Make sure that you **forma**  each line correctly in the output file. For instance, use a semicolon instead of other characters to separate different items in the sequence.  \n",
    "  \n",
    "For example, suppose the phrase \"parking lot\" has an absolute support 133, then the line corresponding to this frequent contiguous sequential pattern in \"patterns.txt\" should be:\n",
    "  \n",
    "133:parking;lot\n",
    "  \n",
    "Notice that the **order does matter** in sequential pattern mining.  That is to say, `133:lot;parking`\n",
    "  \n",
    "may be graded as incorrect, even if `133:parking;lot` is a frequent contiguous sequential pattern.\n",
    "  \n",
    "Make sure you also include all the length-1 patterns.     "
   ]
  },
  {
   "cell_type": "markdown",
   "id": "a687a11e",
   "metadata": {},
   "source": [
    "**Notes:**\n",
    "  \n",
    "A counter tool is provided to support convenient and rapid tallies.  \n",
    "A *Counter* is a dict subclass for counting hashable objects.  \n",
    "It is a collection where elements are stored as dictionary keys and their counts are stored as dictionary values.  \n",
    "Counter objects have a dictionary interface except that they return a zero count for missing items. Counts are allowed to be any integer value including zero or negative counts.  \n",
    "As a dict subclass, Counter inherited the capability to remember insertion order.  \n",
    "Elements are counted from an iterable or initialized from another mapping.\n",
    "Counter objects support additional methods beyond those available for all dictionaries: \n",
    "- elements()  \n",
    "- most_common([n])  \n",
    "- subtract([iter/mapping])  \n",
    "- total()  \n",
    "- fromkeys(iter)  \n",
    "- update([iter/mapping])  \n",
    "   \n",
    "https://docs.python.org/3/library/collections.html#collections.Counter  \n",
    "  \n",
    "strip(): Remove spaces at the beginning and at the end of the string  \n",
    "split(): splits a string into a *list*  If sep is not specified, sep is any whitespace, runs of consecutive whitespace are regarded as a single separator, and the result will contain no empty strings at the start or end if the string has leading or trailing whitespace. \n",
    "  \n",
    "Line 16 below is creating a subsequence from a list of words in the given range [i:i + length] and joining them with a space in between. **This is commonly used in sequential pattern mining to extract contiguous subsequences from a sequence of items.**\n",
    "\n",
    "Line 17 below increments the count of the specific subsequence in the line_counts Counter.\n",
    "\n",
    "In line 21 below Counter().items() converts the Counter object to a list of (elem, cnt) pairs.\n",
    "\n",
    "Line 22 splits the string \"sequence\" into a list of substrings using the space character (' ') as the delimiter."
   ]
  },
  {
   "cell_type": "code",
   "execution_count": 1,
   "id": "031e4732",
   "metadata": {},
   "outputs": [],
   "source": [
    "from collections import Counter\n",
    "\n",
    "sequence_counts = Counter()\n",
    "min_support = 100\n",
    "\n",
    "input_file = \"reviews_sample.txt\"\n",
    "output_file = \"patterns.txt\"\n",
    "\n",
    "with open(input_file, 'r') as file:\n",
    "    for line in file:\n",
    "        row = line.strip().split() # list\n",
    "        line_counts = Counter()\n",
    "        for seq_len in range(1, 3): #1,2, seq_len of seq\n",
    "        # if 5 row in row/list and seq_len = 2, then range = 4, range(4) = 0-3\n",
    "            for i in range(len(row) - seq_len + 1): \n",
    "                subsequence = \" \".join(row[i:i + seq_len])\n",
    "                line_counts[subsequence] += 1\n",
    "        for item in line_counts:\n",
    "            sequence_counts[item] += 1\n",
    "\n",
    "for sequence, count in sequence_counts.items():\n",
    "    word = sequence.split(\" \")\n",
    "    if count >= min_support:\n",
    "        out_string = (\";\".join (each for each in word))\n",
    "        with open(output_file, 'a') as out_file:\n",
    "            out_file.writelines(str(count)+\":\"+out_string + \"\\n\")"
   ]
  }
 ],
 "metadata": {
  "kernelspec": {
   "display_name": "Python 3",
   "language": "python",
   "name": "python3"
  },
  "language_info": {
   "codemirror_mode": {
    "name": "ipython",
    "version": 3
   },
   "file_extension": ".py",
   "mimetype": "text/x-python",
   "name": "python",
   "nbconvert_exporter": "python",
   "pygments_lexer": "ipython3",
   "version": "3.8.8"
  }
 },
 "nbformat": 4,
 "nbformat_minor": 5
}
